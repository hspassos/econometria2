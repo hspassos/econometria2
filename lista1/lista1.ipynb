{
 "cells": [
  {
   "cell_type": "markdown",
   "id": "6568bf6c",
   "metadata": {},
   "source": [
    "3. Faça uma tabela com média e desvio-padrão das variáveis. Faça outra tabela com a correlação entre S e IQ."
   ]
  },
  {
   "cell_type": "code",
   "execution_count": 33,
   "id": "449cf12c",
   "metadata": {},
   "outputs": [],
   "source": [
    "import pandas as pd\n",
    "\n",
    "df = pd.read_excel('grilic.xls')\n"
   ]
  },
  {
   "cell_type": "code",
   "execution_count": 34,
   "id": "a78ec3e9",
   "metadata": {},
   "outputs": [],
   "source": [
    "parametros = df.agg(['mean', 'std'], numeric_only=True)\n",
    "\n",
    "correlacao_S_IQ = df['S'].corr(df['IQ'])\n"
   ]
  },
  {
   "cell_type": "markdown",
   "id": "3c78a5cf",
   "metadata": {},
   "source": [
    "4. Apresente uma análise da escolha dos instrumentos para resolver os problemas de viés de variável omitida e erro-nas-variáveis. Inclua nesta análise a regressão de primeiro estágio que achar pertinente."
   ]
  },
  {
   "cell_type": "markdown",
   "id": "0947f510",
   "metadata": {},
   "source": [
    "Instrumentos usados poderiam ser KWW, MED\n",
    "\n",
    "Os instrumentos devem ser correlacionados com as variáveis endógenas (IQ e S) e devem ser exógenos"
   ]
  },
  {
   "cell_type": "code",
   "execution_count": 35,
   "id": "9829f3ad",
   "metadata": {},
   "outputs": [],
   "source": [
    "linhas_interesse = ['S', 'IQ']\n",
    "colunas_interesse = ['MED', 'KWW', 'MRT', 'AGE']\n",
    "\n",
    "# Calcular a matriz de correlação completa para todas as colunas relevantes\n",
    "# Primeiro, criamos uma lista com todas as colunas que participarão\n",
    "colunas_para_corr_completa = list(set(linhas_interesse + colunas_interesse)) # set() para evitar duplicatas\n",
    "matriz_corr_completa = df[colunas_para_corr_completa].corr(numeric_only=True)\n",
    "\n",
    "# Selecionar apenas as correlações de interesse\n",
    "matriz_corr_especifica = matriz_corr_completa.loc[linhas_interesse, colunas_interesse]\n",
    "\n",
    "correlacao_iv = pd.DataFrame(matriz_corr_especifica).T"
   ]
  },
  {
   "cell_type": "code",
   "execution_count": 55,
   "id": "bd224c47",
   "metadata": {},
   "outputs": [
    {
     "name": "stdout",
     "output_type": "stream",
     "text": [
      "                            OLS Regression Results                            \n",
      "==============================================================================\n",
      "Dep. Variable:                     IQ   R-squared:                       0.251\n",
      "Model:                            OLS   Adj. R-squared:                  0.239\n",
      "Method:                 Least Squares   F-statistic:                     20.82\n",
      "Date:                Sat, 14 Jun 2025   Prob (F-statistic):           1.06e-39\n",
      "Time:                        18:30:09   Log-Likelihood:                -2944.9\n",
      "No. Observations:                 758   AIC:                             5916.\n",
      "Df Residuals:                     745   BIC:                             5976.\n",
      "Df Model:                          12                                         \n",
      "Covariance Type:            nonrobust                                         \n",
      "==============================================================================\n",
      "                 coef    std err          t      P>|t|      [0.025      0.975]\n",
      "------------------------------------------------------------------------------\n",
      "Intercept     76.0966      4.187     18.176      0.000      67.878      84.315\n",
      "RNS           -3.0838      1.002     -3.077      0.002      -5.051      -1.116\n",
      "SMSA          -0.0375      0.977     -0.038      0.969      -1.955       1.880\n",
      "MED            0.6390      0.167      3.834      0.000       0.312       0.966\n",
      "KWW            0.6729      0.070      9.578      0.000       0.535       0.811\n",
      "MRT           -1.0517      0.994     -1.059      0.290      -3.002       0.899\n",
      "AGE           -0.3528      0.202     -1.744      0.082      -0.750       0.044\n",
      "YEAR_67        2.7992      1.729      1.619      0.106      -0.596       6.194\n",
      "YEAR_68        3.3086      1.615      2.048      0.041       0.138       6.480\n",
      "YEAR_69        5.2912      1.544      3.426      0.001       2.260       8.323\n",
      "YEAR_70        9.9276      1.717      5.783      0.000       6.557      13.298\n",
      "YEAR_71        8.1922      1.595      5.136      0.000       5.061      11.323\n",
      "YEAR_73       10.9101      1.345      8.109      0.000       8.269      13.551\n",
      "==============================================================================\n",
      "Omnibus:                       22.303   Durbin-Watson:                   2.019\n",
      "Prob(Omnibus):                  0.000   Jarque-Bera (JB):               25.352\n",
      "Skew:                          -0.360   Prob(JB):                     3.13e-06\n",
      "Kurtosis:                       3.533   Cond. No.                         440.\n",
      "==============================================================================\n",
      "\n",
      "Notes:\n",
      "[1] Standard Errors assume that the covariance matrix of the errors is correctly specified.\n"
     ]
    }
   ],
   "source": [
    "import statsmodels.api as sm\n",
    "from patsy import dmatrices\n",
    "\n",
    "year_dummies = pd.get_dummies(df['YEAR'], prefix='YEAR', drop_first=True, dtype=int)\n",
    "df_dummies = df.join(year_dummies)\n",
    "\n",
    "y, X = dmatrices('IQ ~ RNS + SMSA + MED + KWW + MRT + AGE + YEAR_67 + YEAR_68 + YEAR_69 + YEAR_70 + YEAR_71 + YEAR_73', data=df_dummies, return_type='dataframe')\n",
    "\n",
    "mod = sm.OLS(Y, X)\n",
    "res = mod.fit()\n",
    "print(res.summary())\n"
   ]
  },
  {
   "cell_type": "markdown",
   "id": "1a840620",
   "metadata": {},
   "source": [
    "5. A taxa salarial observada é diferente entre indivíduos (datas diferentes para o primeiro ano de observação), isto implica na necessidade de formar variáveis dummies para anos. Assim dummies de anos devem ser incluídas para controlar o efeito do ano. Estime o modelo de salário (1) por 2SLS. Faça uma análise de validade dos instrumentos utilizando a estatística de Sargan. O conjunto de instrumentos deve consistir nos regressores pré-determinados e nas demais variáveis pré-determinadas (MED, KWW, MRT, AGE). Além de apresentar as estimativas do modelo por OLS e 2SLS, explique a diferença de magnitude entre elas.\n"
   ]
  },
  {
   "cell_type": "code",
   "execution_count": 56,
   "id": "a7b4e06f",
   "metadata": {},
   "outputs": [
    {
     "name": "stdout",
     "output_type": "stream",
     "text": [
      "                            OLS Regression Results                            \n",
      "==============================================================================\n",
      "Dep. Variable:                     IQ   R-squared:                       0.336\n",
      "Model:                            OLS   Adj. R-squared:                  0.323\n",
      "Method:                 Least Squares   F-statistic:                     25.03\n",
      "Date:                Sat, 14 Jun 2025   Prob (F-statistic):           2.66e-56\n",
      "Time:                        18:30:15   Log-Likelihood:                -2899.4\n",
      "No. Observations:                 758   AIC:                             5831.\n",
      "Df Residuals:                     742   BIC:                             5905.\n",
      "Df Model:                          15                                         \n",
      "Covariance Type:            nonrobust                                         \n",
      "==============================================================================\n",
      "                 coef    std err          t      P>|t|      [0.025      0.975]\n",
      "------------------------------------------------------------------------------\n",
      "Intercept     67.7354      4.008     16.899      0.000      59.866      75.604\n",
      "S              2.5056      0.286      8.761      0.000       1.944       3.067\n",
      "AGE           -1.0321      0.297     -3.478      0.001      -1.615      -0.450\n",
      "AGE ^ 2        0.1181      0.206      0.572      0.567      -0.287       0.523\n",
      "KWW            0.4552      0.070      6.530      0.000       0.318       0.592\n",
      "MED            0.2802      0.163      1.723      0.085      -0.039       0.599\n",
      "EXPR          -0.0538      0.252     -0.213      0.831      -0.549       0.442\n",
      "TENURE         0.6073      0.273      2.228      0.026       0.072       1.142\n",
      "RNS           -2.6346      0.950     -2.774      0.006      -4.499      -0.770\n",
      "SMSA           0.0523      0.921      0.057      0.955      -1.756       1.861\n",
      "YEAR_67        0.9381      1.655      0.567      0.571      -2.312       4.188\n",
      "YEAR_68        0.5799      1.568      0.370      0.712      -2.498       3.658\n",
      "YEAR_69        2.2395      1.516      1.478      0.140      -0.736       5.215\n",
      "YEAR_70        5.8260      1.688      3.450      0.001       2.511       9.141\n",
      "YEAR_71        5.2118      1.559      3.343      0.001       2.151       8.273\n",
      "YEAR_73        4.4845      1.488      3.014      0.003       1.564       7.405\n",
      "==============================================================================\n",
      "Omnibus:                       16.246   Durbin-Watson:                   2.025\n",
      "Prob(Omnibus):                  0.000   Jarque-Bera (JB):               19.753\n",
      "Skew:                          -0.262   Prob(JB):                     5.14e-05\n",
      "Kurtosis:                       3.593   Cond. No.                         515.\n",
      "==============================================================================\n",
      "\n",
      "Notes:\n",
      "[1] Standard Errors assume that the covariance matrix of the errors is correctly specified.\n"
     ]
    }
   ],
   "source": [
    "df_dummies['AGE^2'] = df_dummies['AGE'] ** 2\n",
    " \n",
    "y, X = dmatrices('IQ ~ S + AGE + AGE^2 + KWW + MED + EXPR + TENURE + RNS + SMSA + YEAR_67 + YEAR_68 + YEAR_69 + YEAR_70 + YEAR_71 + YEAR_73', data=df_dummies, return_type='dataframe')\n",
    "\n",
    "mod = sm.OLS(Y, X)\n",
    "res = mod.fit()\n",
    "print(res.summary())\n"
   ]
  }
 ],
 "metadata": {
  "kernelspec": {
   "display_name": "base",
   "language": "python",
   "name": "python3"
  },
  "language_info": {
   "codemirror_mode": {
    "name": "ipython",
    "version": 3
   },
   "file_extension": ".py",
   "mimetype": "text/x-python",
   "name": "python",
   "nbconvert_exporter": "python",
   "pygments_lexer": "ipython3",
   "version": "3.12.7"
  }
 },
 "nbformat": 4,
 "nbformat_minor": 5
}
